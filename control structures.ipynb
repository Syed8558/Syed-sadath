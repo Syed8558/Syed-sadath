{
  "nbformat": 4,
  "nbformat_minor": 0,
  "metadata": {
    "colab": {
      "provenance": []
    },
    "kernelspec": {
      "name": "python3",
      "display_name": "Python 3"
    },
    "language_info": {
      "name": "python"
    }
  },
  "cells": [
    {
      "cell_type": "code",
      "execution_count": null,
      "metadata": {
        "id": "IFChQJx0AF8c",
        "colab": {
          "base_uri": "https://localhost:8080/"
        },
        "outputId": "1fb0e2bc-6a49-4c67-f4c2-1784f662b8b2"
      },
      "outputs": [
        {
          "output_type": "execute_result",
          "data": {
            "text/plain": [
              "{1, 2, 3}"
            ]
          },
          "metadata": {},
          "execution_count": 1
        }
      ],
      "source": [
        "x={1,2,3,4}\n",
        "x={1,2,3,1,1,1}\n",
        "x\n"
      ]
    },
    {
      "cell_type": "code",
      "source": [
        "x={1,11,222,3,1,11}\n",
        "x"
      ],
      "metadata": {
        "colab": {
          "base_uri": "https://localhost:8080/"
        },
        "id": "iFA66dhuE88d",
        "outputId": "952bb80f-cc7e-4615-f6e1-1172a8bd8e4b"
      },
      "execution_count": null,
      "outputs": [
        {
          "output_type": "execute_result",
          "data": {
            "text/plain": [
              "{1, 3, 11, 222}"
            ]
          },
          "metadata": {},
          "execution_count": 4
        }
      ]
    },
    {
      "cell_type": "code",
      "source": [],
      "metadata": {
        "id": "Z9pP7PKCGaY4"
      },
      "execution_count": null,
      "outputs": []
    },
    {
      "cell_type": "code",
      "execution_count": null,
      "metadata": {
        "id": "yu6kQ2NkGdDw"
      },
      "outputs": [],
      "source": [
        "x={1,2,3,4,5}\n",
        "y={3,4,5,6}\n",
        "x.difference_update(y)"
      ]
    },
    {
      "cell_type": "code",
      "source": [
        "x,y"
      ],
      "metadata": {
        "colab": {
          "base_uri": "https://localhost:8080/"
        },
        "id": "SkHhYYy-GabI",
        "outputId": "f58dde7a-77d6-47e4-80e8-28cbd1828ac4"
      },
      "execution_count": null,
      "outputs": [
        {
          "output_type": "execute_result",
          "data": {
            "text/plain": [
              "({1, 2}, {3, 4, 5, 6})"
            ]
          },
          "metadata": {},
          "execution_count": 33
        }
      ]
    },
    {
      "cell_type": "code",
      "source": [
        "for i in \"data science\".split():\n",
        "  print(i)\n"
      ],
      "metadata": {
        "colab": {
          "base_uri": "https://localhost:8080/"
        },
        "id": "emzMiilxGafw",
        "outputId": "9a5a99a5-0417-4c16-f1fe-89714b3b5972"
      },
      "execution_count": null,
      "outputs": [
        {
          "output_type": "stream",
          "name": "stdout",
          "text": [
            "data\n",
            "science\n"
          ]
        }
      ]
    },
    {
      "cell_type": "code",
      "source": [
        "for i in range(1,10):\n",
        "  print(i,end=' ')"
      ],
      "metadata": {
        "colab": {
          "base_uri": "https://localhost:8080/"
        },
        "id": "TyYHtc3-Gahw",
        "outputId": "ba8ba6ce-3b69-40e0-e12a-47072ada2721"
      },
      "execution_count": null,
      "outputs": [
        {
          "output_type": "stream",
          "name": "stdout",
          "text": [
            "1 2 3 4 5 6 7 8 9 "
          ]
        }
      ]
    },
    {
      "cell_type": "code",
      "source": [
        "for i in range(1,6):\n",
        "  print(\"$\"*(6-i))"
      ],
      "metadata": {
        "colab": {
          "base_uri": "https://localhost:8080/"
        },
        "id": "qYJxlq5AGakp",
        "outputId": "4c3ce41b-e15b-4d8e-8d25-d7b101323bb0"
      },
      "execution_count": 68,
      "outputs": [
        {
          "output_type": "stream",
          "name": "stdout",
          "text": [
            "$$$$$\n",
            "$$$$\n",
            "$$$\n",
            "$$\n",
            "$\n"
          ]
        }
      ]
    },
    {
      "cell_type": "code",
      "source": [
        "x=\"UPSC\"\n",
        "for i in range(1,len(x)+1):\n",
        "  print(x)"
      ],
      "metadata": {
        "id": "0h962OkxGanl",
        "colab": {
          "base_uri": "https://localhost:8080/"
        },
        "outputId": "0d33861c-5535-49e1-cfc8-71f78b63e62a"
      },
      "execution_count": 72,
      "outputs": [
        {
          "output_type": "stream",
          "name": "stdout",
          "text": [
            "UPSC\n",
            "UPSC\n",
            "UPSC\n",
            "UPSC\n"
          ]
        }
      ]
    },
    {
      "cell_type": "code",
      "source": [
        "x=int(input())\n",
        "if x>=87.5:\n",
        "  print(\"congrats you are eligible for UPSC mains 2025\")\n",
        "else:\n",
        "  print(\"sorry you are not eligible for UPSC mains\")"
      ],
      "metadata": {
        "colab": {
          "base_uri": "https://localhost:8080/"
        },
        "id": "r2STHlRXUFB3",
        "outputId": "3dfcb5a2-ed1e-4636-941b-1c8010629ad4"
      },
      "execution_count": 85,
      "outputs": [
        {
          "output_type": "stream",
          "name": "stdout",
          "text": [
            "68\n",
            "sorry you are not eligible for UPSC mains\n"
          ]
        }
      ]
    },
    {
      "cell_type": "code",
      "source": [
        "salary=int(input())\n",
        "if salary>=50000:\n",
        "  print(\"can live in bangalore\")\n",
        "else:\n",
        "  print(\"cannot live in bangalore\")\n",
        "\n"
      ],
      "metadata": {
        "colab": {
          "base_uri": "https://localhost:8080/"
        },
        "id": "hDGQVr9tUFD8",
        "outputId": "458bf6a4-197a-4d96-f511-677c4ae19e4c"
      },
      "execution_count": 84,
      "outputs": [
        {
          "output_type": "stream",
          "name": "stdout",
          "text": [
            "50000\n",
            "can live in bangalore\n"
          ]
        }
      ]
    },
    {
      "cell_type": "code",
      "source": [],
      "metadata": {
        "id": "WpcGiIh7UFGa"
      },
      "execution_count": null,
      "outputs": []
    },
    {
      "cell_type": "code",
      "source": [],
      "metadata": {
        "id": "RFLObGrBUFJT"
      },
      "execution_count": null,
      "outputs": []
    },
    {
      "cell_type": "markdown",
      "source": [],
      "metadata": {
        "id": "FiM9pIYRE67l"
      }
    }
  ]
}