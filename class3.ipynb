{
 "cells": [
  {
   "cell_type": "code",
   "execution_count": 2,
   "id": "3d47b347",
   "metadata": {},
   "outputs": [
    {
     "data": {
      "text/plain": [
       "['d', 't', '']"
      ]
     },
     "execution_count": 2,
     "metadata": {},
     "output_type": "execute_result"
    }
   ],
   "source": [
    "x=\"data\"     #split method\n",
    "x.split('a')           "
   ]
  },
  {
   "cell_type": "code",
   "execution_count": 3,
   "id": "a546b361",
   "metadata": {},
   "outputs": [
    {
     "data": {
      "text/plain": [
       "['d', 't', '', '']"
      ]
     },
     "execution_count": 3,
     "metadata": {},
     "output_type": "execute_result"
    }
   ],
   "source": [
    "x=\"dataa\"\n",
    "x.split('a') "
   ]
  },
  {
   "cell_type": "code",
   "execution_count": 8,
   "id": "b04c5b9f",
   "metadata": {},
   "outputs": [
    {
     "data": {
      "text/plain": [
       "1"
      ]
     },
     "execution_count": 8,
     "metadata": {},
     "output_type": "execute_result"
    }
   ],
   "source": [
    "x=\"data science\"  \n",
    "x.count('d')\n"
   ]
  },
  {
   "cell_type": "code",
   "execution_count": 9,
   "id": "756aba1a",
   "metadata": {},
   "outputs": [
    {
     "data": {
      "text/plain": [
       "'DATA'"
      ]
     },
     "execution_count": 9,
     "metadata": {},
     "output_type": "execute_result"
    }
   ],
   "source": [
    "x=\"data\" \n",
    "x.upper()\n"
   ]
  },
  {
   "cell_type": "code",
   "execution_count": 10,
   "id": "7611662a",
   "metadata": {},
   "outputs": [
    {
     "data": {
      "text/plain": [
       "'Data'"
      ]
     },
     "execution_count": 10,
     "metadata": {},
     "output_type": "execute_result"
    }
   ],
   "source": [
    "x=\"data\" \n",
    "x.capitalize()"
   ]
  },
  {
   "cell_type": "code",
   "execution_count": 11,
   "id": "8395992b",
   "metadata": {},
   "outputs": [
    {
     "data": {
      "text/plain": [
       "'cata'"
      ]
     },
     "execution_count": 11,
     "metadata": {},
     "output_type": "execute_result"
    }
   ],
   "source": [
    "x=\"data\" \n",
    "x.replace('d','c')"
   ]
  },
  {
   "cell_type": "code",
   "execution_count": 14,
   "id": "719a5847",
   "metadata": {},
   "outputs": [
    {
     "data": {
      "text/plain": [
       "'Machine Learning'"
      ]
     },
     "execution_count": 14,
     "metadata": {},
     "output_type": "execute_result"
    }
   ],
   "source": [
    "x=\"machine learning\" \n",
    "x.title()"
   ]
  },
  {
   "cell_type": "code",
   "execution_count": 15,
   "id": "cf808982",
   "metadata": {},
   "outputs": [
    {
     "data": {
      "text/plain": [
       "1"
      ]
     },
     "execution_count": 15,
     "metadata": {},
     "output_type": "execute_result"
    }
   ],
   "source": [
    "x=\"machine learning\" \n",
    "x.find('a')"
   ]
  },
  {
   "cell_type": "code",
   "execution_count": 16,
   "id": "0a39e75d",
   "metadata": {},
   "outputs": [
    {
     "data": {
      "text/plain": [
       "-1"
      ]
     },
     "execution_count": 16,
     "metadata": {},
     "output_type": "execute_result"
    }
   ],
   "source": [
    "x=\"machine learning\" \n",
    "x.find('s')"
   ]
  },
  {
   "cell_type": "code",
   "execution_count": null,
   "id": "f1d36dc4",
   "metadata": {},
   "outputs": [],
   "source": []
  },
  {
   "cell_type": "code",
   "execution_count": 18,
   "id": "a4f25b95",
   "metadata": {},
   "outputs": [
    {
     "data": {
      "text/plain": [
       "'**machine learning**'"
      ]
     },
     "execution_count": 18,
     "metadata": {},
     "output_type": "execute_result"
    }
   ],
   "source": [
    "x=\"machine learning\" \n",
    "x.center(20,'*')"
   ]
  },
  {
   "cell_type": "code",
   "execution_count": 19,
   "id": "22e886da",
   "metadata": {},
   "outputs": [
    {
     "data": {
      "text/plain": [
       "'000000data'"
      ]
     },
     "execution_count": 19,
     "metadata": {},
     "output_type": "execute_result"
    }
   ],
   "source": [
    "x=\"data\"\n",
    "x.zfill(10)"
   ]
  },
  {
   "cell_type": "code",
   "execution_count": 20,
   "id": "8a175da3",
   "metadata": {},
   "outputs": [
    {
     "data": {
      "text/plain": [
       "'machine'"
      ]
     },
     "execution_count": 20,
     "metadata": {},
     "output_type": "execute_result"
    }
   ],
   "source": [
    "x=\"     machine\" \n",
    "x.lstrip()\n"
   ]
  },
  {
   "cell_type": "code",
   "execution_count": 21,
   "id": "5c008852",
   "metadata": {},
   "outputs": [
    {
     "data": {
      "text/plain": [
       "'machine'"
      ]
     },
     "execution_count": 21,
     "metadata": {},
     "output_type": "execute_result"
    }
   ],
   "source": [
    "x=\"machine    \" \n",
    "x.rstrip()"
   ]
  },
  {
   "cell_type": "code",
   "execution_count": 22,
   "id": "79db6142",
   "metadata": {},
   "outputs": [
    {
     "data": {
      "text/plain": [
       "'machine'"
      ]
     },
     "execution_count": 22,
     "metadata": {},
     "output_type": "execute_result"
    }
   ],
   "source": [
    "x=\"  machine   \" \n",
    "x.strip()"
   ]
  },
  {
   "cell_type": "code",
   "execution_count": 23,
   "id": "80aac2e2",
   "metadata": {},
   "outputs": [
    {
     "data": {
      "text/plain": [
       "'data       '"
      ]
     },
     "execution_count": 23,
     "metadata": {},
     "output_type": "execute_result"
    }
   ],
   "source": [
    "x=\"data\"\n",
    "x.ljust(11)"
   ]
  },
  {
   "cell_type": "code",
   "execution_count": 24,
   "id": "15123c6f",
   "metadata": {},
   "outputs": [
    {
     "data": {
      "text/plain": [
       "'data$$$$$$$'"
      ]
     },
     "execution_count": 24,
     "metadata": {},
     "output_type": "execute_result"
    }
   ],
   "source": [
    "x=\"data\"\n",
    "x.ljust(11,'$')"
   ]
  },
  {
   "cell_type": "code",
   "execution_count": 25,
   "id": "c598cbaa",
   "metadata": {},
   "outputs": [
    {
     "data": {
      "text/plain": [
       "'$$$$$$$data'"
      ]
     },
     "execution_count": 25,
     "metadata": {},
     "output_type": "execute_result"
    }
   ],
   "source": [
    "x=\"data\"\n",
    "x.rjust(11,'$')"
   ]
  }
 ],
 "metadata": {
  "kernelspec": {
   "display_name": "Python 3",
   "language": "python",
   "name": "python3"
  },
  "language_info": {
   "codemirror_mode": {
    "name": "ipython",
    "version": 3
   },
   "file_extension": ".py",
   "mimetype": "text/x-python",
   "name": "python",
   "nbconvert_exporter": "python",
   "pygments_lexer": "ipython3",
   "version": "3.13.7"
  }
 },
 "nbformat": 4,
 "nbformat_minor": 5
}
