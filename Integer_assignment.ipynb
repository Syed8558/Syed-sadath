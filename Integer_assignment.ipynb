{
  "nbformat": 4,
  "nbformat_minor": 0,
  "metadata": {
    "colab": {
      "provenance": []
    },
    "kernelspec": {
      "name": "python3",
      "display_name": "Python 3"
    },
    "language_info": {
      "name": "python"
    }
  },
  "cells": [
    {
      "cell_type": "code",
      "execution_count": null,
      "metadata": {
        "colab": {
          "base_uri": "https://localhost:8080/"
        },
        "id": "WTx5GrTNKc0U",
        "outputId": "324b7481-895b-400b-8c1b-46c20e0d4eb6"
      },
      "outputs": [
        {
          "output_type": "stream",
          "name": "stdout",
          "text": [
            "3628800\n"
          ]
        }
      ],
      "source": [
        "# QUESTION 1 : Calculate the product of first 10 natural numbers\n",
        "\n",
        "prod = 1\n",
        "for i in range(1, 11):\n",
        "  prod= prod * i\n",
        "print(prod*1)"
      ]
    },
    {
      "cell_type": "code",
      "source": [
        "# QUESTION 2: Find the remainder when 156 is divided by 7.\n",
        "\n",
        "rem=156%7\n",
        "print(rem)"
      ],
      "metadata": {
        "colab": {
          "base_uri": "https://localhost:8080/"
        },
        "id": "qyrqMMNVLKlg",
        "outputId": "72ff2fc8-3b52-47fc-fa19-3e7d62774836"
      },
      "execution_count": null,
      "outputs": [
        {
          "output_type": "stream",
          "name": "stdout",
          "text": [
            "2\n"
          ]
        }
      ]
    },
    {
      "cell_type": "code",
      "source": [
        "# QUESTION 3: Calculate the square of 25.\n",
        "\n",
        "x=25\n",
        "print(x*x)"
      ],
      "metadata": {
        "colab": {
          "base_uri": "https://localhost:8080/"
        },
        "id": "KT7J0KQtLKnp",
        "outputId": "99f60412-bfe3-453c-ed38-7b589e5a4117"
      },
      "execution_count": null,
      "outputs": [
        {
          "output_type": "stream",
          "name": "stdout",
          "text": [
            "625\n"
          ]
        }
      ]
    },
    {
      "cell_type": "code",
      "source": [
        "# QUESTION 4: Calculate the cuberoot  of 125\n",
        "\n",
        "\n",
        "cuberoot=125**(1/3)\n",
        "print(cuberoot)"
      ],
      "metadata": {
        "colab": {
          "base_uri": "https://localhost:8080/"
        },
        "id": "WQsfEwkhNY49",
        "outputId": "958c90f7-8cc9-4184-e103-e2ceb83a7bdb"
      },
      "execution_count": null,
      "outputs": [
        {
          "output_type": "stream",
          "name": "stdout",
          "text": [
            "4.999999999999999\n"
          ]
        }
      ]
    },
    {
      "cell_type": "code",
      "source": [
        "# Question 5: Calculate the sum of digits in 12345.\n",
        "\n",
        "1+2+3+4+5\n",
        "\n"
      ],
      "metadata": {
        "colab": {
          "base_uri": "https://localhost:8080/"
        },
        "id": "4xmfW2rzSSN0",
        "outputId": "97236528-74af-4a77-a4b3-dc34a41ffb90"
      },
      "execution_count": null,
      "outputs": [
        {
          "output_type": "execute_result",
          "data": {
            "text/plain": [
              "15"
            ]
          },
          "metadata": {},
          "execution_count": 19
        }
      ]
    },
    {
      "cell_type": "code",
      "source": [
        "# Question 6: Check if 97 is a prime number.\n",
        "\n",
        "\n",
        "\n"
      ],
      "metadata": {
        "id": "ilXRT38cSSQA"
      },
      "execution_count": null,
      "outputs": []
    },
    {
      "cell_type": "code",
      "source": [
        "# Question 7: Find the factorial of 8.\n",
        "n=8\n",
        "factorial=1\n",
        "for i in range (1,n+1):\n",
        "  factorial*=i\n",
        "print(factorial)\n"
      ],
      "metadata": {
        "colab": {
          "base_uri": "https://localhost:8080/"
        },
        "id": "PE8w33HqSSTN",
        "outputId": "10458068-874f-40b3-c1db-c6c66087cb28"
      },
      "execution_count": null,
      "outputs": [
        {
          "output_type": "stream",
          "name": "stdout",
          "text": [
            "40320\n"
          ]
        }
      ]
    },
    {
      "cell_type": "code",
      "source": [
        "# Question 8: Calculate the average of numbers 15,23.31,42,56.\n",
        "\n",
        "i=(15,23,31,42,56)\n",
        "avg=sum(i)/len(i)\n",
        "print(avg)"
      ],
      "metadata": {
        "colab": {
          "base_uri": "https://localhost:8080/"
        },
        "id": "JgjBylAeSSWE",
        "outputId": "d53256e7-3b14-4d01-822a-d3fa45efab93"
      },
      "execution_count": null,
      "outputs": [
        {
          "output_type": "stream",
          "name": "stdout",
          "text": [
            "33.4\n"
          ]
        }
      ]
    },
    {
      "cell_type": "code",
      "source": [
        "# Question 9: Find the Greatest common Divisor of 48 and 36.\n",
        "\n",
        "\n"
      ],
      "metadata": {
        "id": "iSTZ-EvrewpK"
      },
      "execution_count": null,
      "outputs": []
    },
    {
      "cell_type": "code",
      "source": [
        "# Question 10:Calculate the sum of first 20 odd numbers.\n",
        "\n",
        "\n",
        "\n",
        "\n",
        "\n",
        "\n"
      ],
      "metadata": {
        "id": "72s59hMqewrl"
      },
      "execution_count": null,
      "outputs": []
    },
    {
      "cell_type": "code",
      "source": [],
      "metadata": {
        "id": "AgtIUlXGewuc"
      },
      "execution_count": null,
      "outputs": []
    }
  ]
}