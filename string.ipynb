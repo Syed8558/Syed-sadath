{
 "cells": [
  {
   "cell_type": "code",
   "execution_count": 113,
   "metadata": {},
   "outputs": [
    {
     "name": "stdout",
     "output_type": "stream",
     "text": [
      "gnimmargorp nohtyp\n"
     ]
    }
   ],
   "source": [
    "# Question 1:Reverse the string \"python programming\"\n",
    "\n",
    "a=\"python programming\"\n",
    "b=a[::-1]\n",
    "print(b)\n"
   ]
  },
  {
   "cell_type": "code",
   "execution_count": 114,
   "metadata": {},
   "outputs": [
    {
     "name": "stdout",
     "output_type": "stream",
     "text": [
      "not a palindrome\n"
     ]
    }
   ],
   "source": [
    "# Question 2: Check if \"racecar\" is a palindrome\n",
    "a=\"racecar\"\n",
     
    "if a==b:\n",
    "    print(\"is a palindrome\")\n",
    "else:\n",
    "    print(\"not a palindrome\")"
   ]
  },
  {
   "cell_type": "code",
   "execution_count": 115,
   "metadata": {},
   "outputs": [
    {
     "data": {
      "text/plain": [
       "38"
      ]
     },
     "execution_count": 115,
     "metadata": {},
     "output_type": "execute_result"
    }
   ],
   "source": [
    "# Question 3: Count the number of words in \"Python is a great programming language\"\n",
    "a=\"Python is a great programming language\"\n",
    "len(a)\n"
   ]
  },
  {
   "cell_type": "code",
   "execution_count": 116,
   "metadata": {},
   "outputs": [
    {
     "data": {
      "text/plain": [
       "'Hello World'"
      ]
     },
     "execution_count": 116,
     "metadata": {},
     "output_type": "execute_result"
    }
   ],
   "source": [
    "# Question 4: Convert \"hello world\" to title case\n",
    "a='Hello World'\n",
    "b=a.title()\n",
    "a\n"
   ]
  },
  {
   "cell_type": "code",
   "execution_count": 45,
   "id": "36ec2ef9",
   "metadata": {},
   "outputs": [
    {
     "data": {
      "text/plain": [
       "12"
      ]
     },
     "execution_count": 45,
     "metadata": {},
     "output_type": "execute_result"
    }
   ],
   "source": [
    "# Question 5: Find the length of string \"Data Science\"\n",
    "a=\"Data science\"\n",
    "len(a)\n"
   ]
  },
  {
   "cell_type": "code",
   "execution_count": 120,
   "id": "63fb4de5",
   "metadata": {},
   "outputs": [
    {
     "data": {
      "text/plain": [
       "'Machine_Learning'"
      ]
     },
     "execution_count": 120,
     "metadata": {},
     "output_type": "execute_result"
    }
   ],
   "source": [
    "# Question 6: Replace all spaces with underscores in \"Machine Learning\"\n",
    "a='Machine Learning'\n",
    "b=a.replace(\" \",\"_\")\n",
    "b"
   ]
  },
  {
   "cell_type": "code",
   "execution_count": 125,
   "id": "bd9eb4c7",
   "metadata": {},
   "outputs": [
    {
     "name": "stdout",
     "output_type": "stream",
     "text": [
      "False\n"
     ]
    }
   ],
   "source": [
    "# Question 7: Check if \"python\" is in \"Python Programming Language\"\n",
    "a='Python Programming Language'\n",
    "b='Python'\n",
    "if a in b:\n",
    "   print(True)\n",
    "else:\n",
    "   print(False)"
   ]
  },
  {
   "cell_type": "code",
   "execution_count": 129,
   "metadata": {},
   "outputs": [
    {
     "data": {
      "text/plain": [
       "'Artif'"
      ]
     },
     "execution_count": 129,
     "metadata": {},
     "output_type": "execute_result"
    }
   ],
   "source": [
    "# Question 8: Extract the first 5 characters from \"Artificial Intelligence\"\n",
    "a=\"Artificial Intelligence\"\n",
    "b=a[0:5]\n",
    "b"
   ]
  },
  {
   "cell_type": "code",
   "execution_count": 130,
   "id": "1caa460f",
   "metadata": {},
   "outputs": [
    {
     "data": {
      "text/plain": [
       "'uppercase'"
      ]
     },
     "execution_count": 130,
     "metadata": {},
     "output_type": "execute_result"
    }
   ],
   "source": [
    "# Question 9: Convert \"UPPERCASE\" to lowercase\n",
    "a=\"UPPERCASE\"\n",
    "b=a.lower()\n",
    "b"
   ]
  },
  {
   "cell_type": "code",
   "execution_count": 146,
   "metadata": {},
   "outputs": [
    {
     "name": "stdout",
     "output_type": "stream",
     "text": [
      "cmptr scnc\n"
     ]
    }
   ],
   "source": [
    "# Question 10: Remove all vowels from \"Computer Science\"\n",
    "text=\"computer science\"\n",
    "vowels=\"aeiou\"\n",
    "result=text\n",
    "result=result.replace(\"a\",\"\")\n",
    "result=result.replace(\"e\",\"\")\n",
    "result=result.replace(\"i\",\"\")\n",
    "result=result.replace(\"o\",\"\")\n",
    "result=result.replace(\"u\",\"\")\n",
    "print(result)\n"
   ]
  },
  {
   "cell_type": "code",
   "execution_count": 148,
   "id": "03575c32",
   "metadata": {},
   "outputs": [
    {
     "name": "stdout",
     "output_type": "stream",
     "text": [
      "s\n"
     ]
    }
   ],
   "source": [
    "# Question 11: Find the most frequent character in \"mississippi\"\n",
    "a=\"mississippi\"\n",
    "b=max(a)\n",
    "print(b)"
   ]
  },
  {
   "cell_type": "code",
   "execution_count": null,
   "id": "c4c9448e",
   "metadata": {},
   "outputs": [],
   "source": [
    "# Question 12: Check if two strings are anagrams: \"listen\" and \"silent\"\n"
   ]
  },
  {
   "cell_type": "code",
   "execution_count": 150,
   "id": "4bee7076",
   "metadata": {},
   "outputs": [
    {
     "name": "stdout",
     "output_type": "stream",
     "text": [
      "Python Programming Language\n"
     ]
    }
   ],
   "source": [
    "# Question 13: Capitalize first letter of each word in \"python programming language\"\n",
    "a=\"python programming language\"\n",
    "b=a.title()\n",
    "print(b)"
   ]
  },
  {
   "cell_type": "code",
   "execution_count": null,
   "id": "932a67d8",
   "metadata": {},
   "outputs": [],
   "source": [
    "# Question 14: Count consonants in \"Hello World\"\n",
    "a=\"Hello World\"\n",
    "\n"
   ]
  },
  {
   "cell_type": "code",
   "execution_count": 47,
   "id": "062e8538",
   "metadata": {},
   "outputs": [
    {
     "data": {
      "text/plain": [
       "'programming'"
      ]
     },
     "execution_count": 47,
     "metadata": {},
     "output_type": "execute_result"
    }
   ],
   "source": [
    "# Question 15: Find the longest word in \"Python is a programming language\"\n",
    "a=\"Python is a programming language\"\n",
    "b=a.split()\n",
    "c=max(b)\n",
    "c\n"
   ]
  },
  {
   "cell_type": "code",
   "execution_count": 207,
   "id": "c674c291",
   "metadata": {},
   "outputs": [],
   "source": [
    "# Question 16: Remove all punctuation from \"Hello, World! How are you?\"\n",
    "a='Hello, World! How are you?'\n",
    "\n",
    "\n"
   ]
  },
  {
   "cell_type": "code",
   "execution_count": 168,
   "id": "cdac2d0c",
   "metadata": {},
   "outputs": [
    {
     "name": "stdout",
     "output_type": "stream",
     "text": [
      "True\n"
     ]
    }
   ],
   "source": [
    "# Question 17: Check if string starts with \"Python\"\n",
    "a=\"Python\"\n",
    "b=a.startswith(a)\n",
    "print(b)"
   ]
  },
  {
   "cell_type": "code",
   "execution_count": 172,
   "id": "c85769ba",
   "metadata": {},
   "outputs": [
    {
     "name": "stdout",
     "output_type": "stream",
     "text": [
      "4\n"
     ]
    }
   ],
   "source": [
    "# Question 18: Find the index of first occurrence of 'o' in \"Hello World\"\n",
    "a=\"Hello World\"\n",
    "b=a.index(\"o\")\n",
    "print(b)"
   ]
  },
  {
   "cell_type": "code",
   "execution_count": 178,
   "id": "56513ed7",
   "metadata": {},
   "outputs": [
    {
     "name": "stdout",
     "output_type": "stream",
     "text": [
      "['apple', 'banana', 'orange']\n"
     ]
    }
   ],
   "source": [
    "# Question 19: Split string \"apple,banana,orange\" by comma\n",
    "a=\"apple,banana,orange\"\n",
    "b=a.split(\",\")\n",
    "print(b)"
   ]
  },
  {
   "cell_type": "code",
   "execution_count": 180,
   "metadata": {},
   "outputs": [],
   "source": [
    "# Question 20: Join list ['Python', 'is', 'awesome'] with spaces\n",
    "a=['Python', 'is', 'awesome']\n"
   ]
  },
  {
   "cell_type": "code",
   "execution_count": 183,
   "metadata": {},
   "outputs": [
    {
     "name": "stdout",
     "output_type": "stream",
     "text": [
      "True\n"
     ]
    }
   ],
   "source": [
    "# Question 21: Check if string contains only digits: \"12345\"\n",
    "a=\"12345\"\n",
    "b=a.isdigit()\n",
    "print(b)\n"
   ]
  },
  {
   "cell_type": "code",
   "execution_count": 184,
   "id": "5e722299",
   "metadata": {},
   "outputs": [
    {
     "name": "stdout",
     "output_type": "stream",
     "text": [
      "True\n"
     ]
    }
   ],
   "source": [
    "# Question 22: Check if string contains only letters: \"HelloWorld\"\n",
    "a=\"HelloWorld\"\n",
    "b=a.isalpha()\n",
    "print(b)"
   ]
  },
  {
   "cell_type": "code",
   "execution_count": 195,
   "id": "0805e6c0",
   "metadata": {},
   "outputs": [],
   "source": [
    "# Question 23: Convert \"hello world\" to \"hElLo WoRlD\" (alternating case)\n",
    "a=[\"hello world\"]\n",
    "\n",
    "      \n"
   ]
  },
  {
   "cell_type": "code",
   "execution_count": 196,
   "metadata": {},
   "outputs": [],
   "source": [
    "# Question 24: Find all positions of 'a' in \"banana\"\n",
    "a=\"banana\"\n"
   ]
  },
  {
   "cell_type": "code",
   "execution_count": 198,
   "id": "3e9f1760",
   "metadata": {},
   "outputs": [
    {
     "name": "stdout",
     "output_type": "stream",
     "text": [
      "Hello World\n"
     ]
    }
   ],
   "source": [
    "# Question 25: Remove leading and trailing whitespace from \"  Hello World  \"\n",
    "a=\"  Hello World  \"\n",
    "b=a.strip()\n",
    "print(b)"
   ]
  },
  {
   "cell_type": "code",
   "execution_count": 199,
   "id": "5b32fe4f",
   "metadata": {},
   "outputs": [
    {
     "name": "stdout",
     "output_type": "stream",
     "text": [
      "True\n"
     ]
    }
   ],
   "source": [
    "# Question 26: Check if string ends with \"ing\": \"programming\"\n",
    "a=\"programming\"\n",
    "b=a.endswith(\"ing\")\n",
    "print(b)"
   ]
  },
  {
   "cell_type": "code",
   "execution_count": 202,
   "id": "084db000",
   "metadata": {},
   "outputs": [
    {
     "name": "stdout",
     "output_type": "stream",
     "text": [
      "Hell0 W0rld\n"
     ]
    }
   ],
   "source": [
    "# Question 27: Replace first occurrence of 'o' with '0' in \"Hello World\"\n",
    "a= \"Hello World\"\n",
    "b=a.replace(\"o\",\"0\")\n",
    "print(b)\n"
   ]
  },
  {
   "cell_type": "code",
   "execution_count": 206,
   "id": "fa0bf11f",
   "metadata": {},
   "outputs": [
    {
     "name": "stdout",
     "output_type": "stream",
     "text": [
      " \n"
     ]
    }
   ],
   "source": [
    "# Question 28: Find the shortest word in \"Python is a programming language\"\n",
    "a=\"Python is a programming language\"\n",
    "b=a.split()\n",
    "print(min(a))"
   ]
  },
  {
   "cell_type": "code",
   "execution_count": null,
   "metadata": {},
   "outputs": [],
   "source": [
    "# Question 29: Count words that start with 'p' in \"Python programming is powerful\"\n",
    "s=\"Python programming is powerful\"\n"
   ]
  },
  {
   "cell_type": "code",
   "execution_count": 9,
   "id": "c0587923",
   "metadata": {},
   "outputs": [
    {
     "data": {
      "text/plain": [
       "'Python World Hello'"
      ]
     },
     "execution_count": 9,
     "metadata": {},
     "output_type": "execute_result"
    }
   ],
   "source": [
    "# Question 30: Reverse words in \"Hello World Python\"\n",
    "a=\"Hello World Python\"\n",
    "b=word.split()\n",
    "c=b[::-1]\n",
    "d=\" \".join(c)\n",
    "d\n"
   ]
  },
  {
   "cell_type": "code",
   "execution_count": 11,
   "metadata": {},
   "outputs": [
    {
     "data": {
      "text/plain": [
       "True"
      ]
     },
     "execution_count": 11,
     "metadata": {},
     "output_type": "execute_result"
    }
   ],
   "source": [
    "# Question 31: Check if string is a valid email format: \"user@example.com\"\n",
    "a=\"user@example.com\"\n",
    "b=a.endswith(\"@example.com\")\n",
    "b"
   ]
  },
  {
   "cell_type": "code",
   "execution_count": 24,
   "id": "6ab58d96",
   "metadata": {},
   "outputs": [
    {
     "data": {
      "text/plain": [
       "'com/path'"
      ]
     },
     "execution_count": 24,
     "metadata": {},
     "output_type": "execute_result"
    }
   ],
   "source": [
    "# Question 32: Extract domain from \"https://www.example.com/path\"\n",
    "a=\"https://www.example.com/path\"\n",
    "b=a.split(\".\")\n",
    "c=b[2]\n",
    "c\n"
   ]
  },
  {
   "cell_type": "code",
   "execution_count": null,
   "metadata": {},
   "outputs": [
    {
     "data": {
      "text/plain": [
       "4"
      ]
     },
     "execution_count": 32,
     "metadata": {},
     "output_type": "execute_result"
    }
   ],
   "source": [
    "# Question 33: Count lines in multi-line string\n",
    "a=\"\"\"I am syed\\n\n",
    "i am from chitradurga\n",
    "i have completed btech in civil engineering\n",
    "currently living in bangalore\"\"\"\n",
    "b=a.count(\"\\n\")\n",
    "b"
   ]
  },
  {
   "cell_type": "code",
   "execution_count": 37,
   "id": "0414ae51",
   "metadata": {},
   "outputs": [
    {
     "data": {
      "text/plain": [
       "{'l', 'o'}"
      ]
     },
     "execution_count": 37,
     "metadata": {},
     "output_type": "execute_result"
    }
   ],
   "source": [
    "# Question 34: Find common characters between \"hello\" and \"world\"\n",
    "a= \"hello\"\n",
    "b=\"world\"\n",
    "c=set(a)\n",
    "d=set(b)\n",
    "c.intersection(d)\n",
    "\n"
   ]
  },
  {
   "cell_type": "code",
   "execution_count": 56,
   "id": "25985a8c",
   "metadata": {},
   "outputs": [
    {
     "name": "stdout",
     "output_type": "stream",
     "text": [
      "valid\n"
     ]
    }
   ],
   "source": [
    "# Question 35: Check if string is a valid phone number: \"+1-555-123-4567\"\n",
    "a=\"+1-555-123-4567\"\n",
    "b=a.replace(\"-\",\"\")\n",
    "if b.startswith('+1')and len(b)==12:\n",
    "    print(\"valid\")\n",
    "else:\n",
    "    print(\"invalid\")\n",
    "\n"
   ]
  },
  {
   "cell_type": "code",
   "execution_count": 40,
   "id": "dec408e9",
   "metadata": {},
   "outputs": [
    {
     "name": "stdout",
     "output_type": "stream",
     "text": [
      "123456789\n"
     ]
    }
   ],
   "source": [
    "# Question 36: Extract numbers from \"abc123def456ghi789\"\n",
    "s=\"abc123def456ghi789\"\n",
    "l=\"\"\n",
    "for i in s:\n",
    "    if i.isdigit():\n",
    "        l+=i\n",
    "print(l)\n"
   ]
  },
  {
   "cell_type": "code",
   "execution_count": 58,
   "metadata": {},
   "outputs": [
    {
     "data": {
      "text/plain": [
       "'camelcase'"
      ]
     },
     "execution_count": 58,
     "metadata": {},
     "output_type": "execute_result"
    }
   ],
   "source": [
    "# Question 37: Convert \"snake_case\" to \"camelCase\"\n",
    "a=\"snake_case\"\n",
    "b=a.replace(\"snake_\",\"camel\")\n",
    "b\n"
   ]
  },
  {
   "cell_type": "code",
   "execution_count": null,
   "metadata": {},
   "outputs": [],
   "source": [
    "# Question 38: Check if string is a valid palindrome ignoring case: \"A man a plan a canal Panama\"\n"
   ]
  },
  {
   "cell_type": "code",
   "execution_count": null,
   "metadata": {},
   "outputs": [],
   "source": [
    "# Question 39: Find the most common word in \"the quick brown fox jumps over the lazy dog\"\n",
    "a=\"the quick brown fox jumps over the lazy dog\"\n",
    "\n"
   ]
  },
  {
   "cell_type": "code",
   "execution_count": 70,
   "id": "27d3e2a3",
   "metadata": {},
   "outputs": [
    {
     "name": "stdout",
     "output_type": "stream",
     "text": [
      "NAASA\n"
     ]
    }
   ],
   "source": [
    "# Question 40: Generate acronym from \"National Aeronautics and Space Administration\"\n",
    "a=\"National Aeronautics and Space Administration\"\n",
    "b=a.split()\n",
    "acronym=\"\".join(word[0].upper()for word in b)\n",
    "print(acronym)\n"
   ]
  },
  {
   "cell_type": "code",
   "execution_count": 34,
   "metadata": {},
   "outputs": [],
   "source": [
    "# Question 41: Check if string contains balanced parentheses: \"((()))\"\n",
    "\n",
    "\n",
    "\n"
   ]
  },
  {
   "cell_type": "code",
   "execution_count": 2,
   "metadata": {},
   "outputs": [
    {
     "name": "stdout",
     "output_type": "stream",
     "text": [
      "Morse code\n"
     ]
    }
   ],
   "source": [
    "# Question 42: Convert \"hello world\" to Morse code\n",
    "a=\"hello world\"\n",
    "b=a.replace(\"hello world\",\"Morse code\")\n",
    "print(b)\n"
   ]
  },
  {
   "cell_type": "code",
   "execution_count": null,
   "id": "3dae2946",
   "metadata": {},
   "outputs": [],
   "source": [
    "# Question 43: Find the longest common substring between \"programming\" and \"grammar\"\n",
    "\n",
    "\n"
   ]
  },
  {
   "cell_type": "code",
   "execution_count": 77,
   "metadata": {},
   "outputs": [
    {
     "name": "stdout",
     "output_type": "stream",
     "text": [
      "valid\n"
     ]
    }
   ],
   "source": [
    "# Question 44: Check if string is a valid URL: \"https://www.google.com\"\n",
    "a=\"https://www.google.com\"\n",
    "b=a.split(\".\")\n",
    "if a.startswith(\"https://\") and a.endswith(\".com\"):\n",
    "    print(\"valid\")\n",
    "else:\n",
    "    print(\"invald\")\n",
    "\n",
    "\n"
   ]
  },
  {
   "cell_type": "code",
   "execution_count": 20,
   "id": "5d6fdb53",
   "metadata": {},
   "outputs": [
    {
     "name": "stdout",
     "output_type": "stream",
     "text": [
      "['Python', 'programming', 'amazing', 'powerful']\n"
     ]
    }
   ],
   "source": [
    "# Question 45: Extract all words with length > 5 from \"Python programming is amazing and powerful\"\n",
    "a=\"Python programming is amazing and powerful\"\n",
    "b=a.split()\n",
    "b\n",
    "c= []\n",
    "for i in b:\n",
    "    if len(i)>5:\n",
    "        c.append(i)\n",
    "print(c)"
   ]
  },
  {
   "cell_type": "code",
   "execution_count": 21,
   "id": "45919926",
   "metadata": {},
   "outputs": [
    {
     "name": "stdout",
     "output_type": "stream",
     "text": [
      "pig latin\n"
     ]
    }
   ],
   "source": [
    "# Question 46: Convert \"hello world\" to Pig Latin\n",
    "a=\"hello world\"\n",
    "b=a.replace(\"hello world\",\"pig latin\")\n",
    "print(b)\n",
    "\n"
   ]
  },
  {
   "cell_type": "code",
   "execution_count": null,
   "metadata": {},
   "outputs": [],
   "source": [
    "# Question 47: Check if string is a valid IPv4 address: \"192.168.1.1\"\n"
   ]
  },
  {
   "cell_type": "code",
   "execution_count": null,
   "id": "5ad27556",
   "metadata": {},
   "outputs": [],
   "source": [
    "# Question 48: Find all substrings of \"abc\"\n"
   ]
  },
  {
   "cell_type": "code",
   "execution_count": null,
   "metadata": {},
   "outputs": [],
   "source": [
    "# Question 49: Convert \"hello world\" to ROT13 encoding\n"
   ]
  },
  {
   "cell_type": "code",
   "execution_count": null,
   "id": "e556c10f",
   "metadata": {},
   "outputs": [],
   "source": [
    "# Question 50: Check if string is a valid credit card number: \"4532015112830366\"\n"
   ]
  }
 ],
 "metadata": {
  "kernelspec": {
   "display_name": "Python 3",
   "language": "python",
   "name": "python3"
  },
  "language_info": {
   "codemirror_mode": {
    "name": "ipython",
    "version": 3
   },
   "file_extension": ".py",
   "mimetype": "text/x-python",
   "name": "python",
   "nbconvert_exporter": "python",
   "pygments_lexer": "ipython3",
   "version": "3.13.7"
  }
 },
 "nbformat": 4,
 "nbformat_minor": 5
}
