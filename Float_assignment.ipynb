{
  "nbformat": 4,
  "nbformat_minor": 0,
  "metadata": {
    "colab": {
      "provenance": []
    },
    "kernelspec": {
      "name": "python3",
      "display_name": "Python 3"
    },
    "language_info": {
      "name": "python"
    }
  },
  "cells": [
    {
      "cell_type": "code",
      "execution_count": 1,
      "metadata": {
        "colab": {
          "base_uri": "https://localhost:8080/"
        },
        "id": "e3LScdf7TUuT",
        "outputId": "9b9fc0da-70fc-4d3e-a797-47017bc9be4e"
      },
      "outputs": [
        {
          "output_type": "stream",
          "name": "stdout",
          "text": [
            "2.01325\n"
          ]
        }
      ],
      "source": [
        "# Question 1: Calculate the average of 3.14, 2.718, 1.618, 0.577\n",
        "i=3.14, 2.718, 1.618, 0.577\n",
        "avg=sum(i)/len(i)\n",
        "print(avg)\n"
      ]
    },
    {
      "cell_type": "code",
      "source": [
        "# Question 2: Convert 98.6 Fahrenheit to Celsius (F = C * 9/5 + 32)\n",
        "f=98.6\n",
        "c=(f-32)*5/9\n",
        "print(c)\n",
        "\n"
      ],
      "metadata": {
        "colab": {
          "base_uri": "https://localhost:8080/"
        },
        "id": "Gn3bOleVTWit",
        "outputId": "64701dc9-313d-4070-c987-727f6959a074"
      },
      "execution_count": 4,
      "outputs": [
        {
          "output_type": "stream",
          "name": "stdout",
          "text": [
            "37.0\n"
          ]
        }
      ]
    },
    {
      "cell_type": "code",
      "source": [
        "# Question 3: Calculate the compound interest on $1000 at 5.5% for 3 years\n",
        "p = 1000      # Principal\n",
        "r = 5.5       # Interest rate\n",
        "t = 3         # Time in years\n",
        "\n",
        "a = p * (1 + r / 100) ** t\n",
        "ci = a - p\n",
        "\n",
        "print(round(ci,2))\n"
      ],
      "metadata": {
        "colab": {
          "base_uri": "https://localhost:8080/"
        },
        "id": "Chj6xhhSTWeB",
        "outputId": "3ebb5e89-b190-431e-a9c3-982dfacc4d0c"
      },
      "execution_count": 7,
      "outputs": [
        {
          "output_type": "stream",
          "name": "stdout",
          "text": [
            "174.24\n"
          ]
        }
      ]
    },
    {
      "cell_type": "code",
      "source": [
        "# Question 4: Find the hypotenuse of a right triangle with sides 3.5 and 4.2\n",
        "a = 3.5\n",
        "b = 4.2\n",
        "hypotenuse = (a**2 + b**2) ** 0.5\n",
        "print(round(hypotenuse,2))\n",
        "\n"
      ],
      "metadata": {
        "colab": {
          "base_uri": "https://localhost:8080/"
        },
        "id": "3ebS9_P9TWa7",
        "outputId": "c118b68c-5fbe-40c3-e322-cd81260341c9"
      },
      "execution_count": 9,
      "outputs": [
        {
          "output_type": "stream",
          "name": "stdout",
          "text": [
            "5.47\n"
          ]
        }
      ]
    },
    {
      "cell_type": "code",
      "source": [
        "# Question 5: Calculate the volume of a sphere with radius 7.8\n",
        "r = 7.8\n",
        "pi = 3.1416\n",
        "volume = (4/3) * pi * (r ** 3)\n",
        "print(round(volume, 2))\n",
        "\n"
      ],
      "metadata": {
        "colab": {
          "base_uri": "https://localhost:8080/"
        },
        "id": "PhDT2K1hTWYy",
        "outputId": "126c9a75-22fb-49c1-e21d-0fe6a0bc5879"
      },
      "execution_count": 10,
      "outputs": [
        {
          "output_type": "stream",
          "name": "stdout",
          "text": [
            "1987.8\n"
          ]
        }
      ]
    },
    {
      "cell_type": "code",
      "source": [
        "# Question 6: Round 3.14159 to 3 decimal places\n",
        "a = 3.14159\n",
        "rounded_num = round(a, 3)\n",
        "print(rounded_num)\n",
        "\n",
        "\n"
      ],
      "metadata": {
        "colab": {
          "base_uri": "https://localhost:8080/"
        },
        "id": "zlt0hmTYTWV-",
        "outputId": "1b0353dd-25ba-4123-9698-c121c00a1edb"
      },
      "execution_count": 11,
      "outputs": [
        {
          "output_type": "stream",
          "name": "stdout",
          "text": [
            "3.142\n"
          ]
        }
      ]
    },
    {
      "cell_type": "code",
      "source": [
        "# Question 7: Calculate the percentage: 45 out of 67\n",
        "a = 45\n",
        "b = 67\n",
        "percentage = (a /b) * 100\n",
        "print(round(percentage, 2))\n",
        "\n",
        "\n"
      ],
      "metadata": {
        "colab": {
          "base_uri": "https://localhost:8080/"
        },
        "id": "RXfWqmMDTWT3",
        "outputId": "6dcb3381-d81d-4f85-f644-12eba2396f75"
      },
      "execution_count": 12,
      "outputs": [
        {
          "output_type": "stream",
          "name": "stdout",
          "text": [
            "67.16\n"
          ]
        }
      ]
    },
    {
      "cell_type": "code",
      "source": [
        "# Question 8: Find the square root of 23.456\n",
        "a = 23.456\n",
        "sqrt_num = a ** 0.5\n",
        "print( round(sqrt_num, 2))\n",
        "\n"
      ],
      "metadata": {
        "colab": {
          "base_uri": "https://localhost:8080/"
        },
        "id": "cerADsLETWQ_",
        "outputId": "ec9473fb-ba6c-463d-ed91-d08aa07a1776"
      },
      "execution_count": 15,
      "outputs": [
        {
          "output_type": "stream",
          "name": "stdout",
          "text": [
            "4.84\n"
          ]
        }
      ]
    },
    {
      "cell_type": "code",
      "source": [
        "# Question 9: Calculate the simple interest: Principal=2500, Rate=6.5%, Time=2.5 years\n",
        "P = 2500\n",
        "R = 6.5\n",
        "T = 2.5\n",
        "SI = (P * R * T) / 100\n",
        "print (round(SI, 2))\n",
        "\n"
      ],
      "metadata": {
        "colab": {
          "base_uri": "https://localhost:8080/"
        },
        "id": "x39UaUDJTWPG",
        "outputId": "e8da43f3-8637-464a-c604-cecf545cfa43"
      },
      "execution_count": 16,
      "outputs": [
        {
          "output_type": "stream",
          "name": "stdout",
          "text": [
            "406.25\n"
          ]
        }
      ]
    },
    {
      "cell_type": "code",
      "source": [
        "# Question 10: Convert 45.7 degrees to radians\n",
        "degrees = 45.7\n",
        "pi = 3.1416\n",
        "radians = degrees * (pi / 180)\n",
        "print(round(radians, 2))\n",
        "\n",
        "\n"
      ],
      "metadata": {
        "colab": {
          "base_uri": "https://localhost:8080/"
        },
        "id": "4guzKXThTWMC",
        "outputId": "d7b4af06-a18a-4ad6-8a51-da8997c504ef"
      },
      "execution_count": 17,
      "outputs": [
        {
          "output_type": "stream",
          "name": "stdout",
          "text": [
            "0.8\n"
          ]
        }
      ]
    },
    {
      "cell_type": "code",
      "source": [],
      "metadata": {
        "id": "HrLUwrDWTWKJ"
      },
      "execution_count": null,
      "outputs": []
    },
    {
      "cell_type": "code",
      "source": [],
      "metadata": {
        "id": "BiSdYXdTTWHT"
      },
      "execution_count": null,
      "outputs": []
    },
    {
      "cell_type": "code",
      "source": [],
      "metadata": {
        "id": "rbW8QL1-TWFO"
      },
      "execution_count": null,
      "outputs": []
    },
    {
      "cell_type": "code",
      "source": [],
      "metadata": {
        "id": "AHybmGubTWCI"
      },
      "execution_count": null,
      "outputs": []
    },
    {
      "cell_type": "code",
      "source": [],
      "metadata": {
        "id": "vDVS9GGYTWAX"
      },
      "execution_count": null,
      "outputs": []
    }
  ]
}